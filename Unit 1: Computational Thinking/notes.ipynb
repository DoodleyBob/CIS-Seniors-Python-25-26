{
 "cells": [
  {
   "cell_type": "markdown",
   "id": "ae464f18",
   "metadata": {},
   "source": [
    "## Working with Python Variables"
   ]
  },
  {
   "cell_type": "markdown",
   "id": "38e8a977",
   "metadata": {},
   "source": [
    "Structure of creating a variable\n",
    "[variable_name] [assignment operator] [value]\n",
    "myVar = \"blah\"\n",
    "\n",
    "### What are the data types in Python\n",
    "1. Strings - anything inside of \" \" or ' '\n",
    "2. Booleans - True/False\n",
    "3. Integers - whole numbers, even or odd\n",
    "4. Floats - any numbver with a decimal"
   ]
  },
  {
   "cell_type": "code",
   "execution_count": null,
   "id": "d6bb8d89",
   "metadata": {},
   "outputs": [
    {
     "name": "stdout",
     "output_type": "stream",
     "text": [
      "3.9\n",
      "3.5500000000000003\n"
     ]
    }
   ],
   "source": [
    "# Variable Reassignment\n",
    "\n",
    "# A student's GPA throughout high school\n",
    "student_gpa = 3.2 # Freshman Year\n",
    "\n",
    "student_gpa = 3.4 # Sophmore Year\n",
    "\n",
    "student_gpa = 3.7 # Junior Year\n",
    "\n",
    "student_gpa = 3.9 # Senior Year\n",
    "print(student_gpa)\n",
    "\n",
    "# OUTPUT: 3.9\n",
    "\n",
    "# If you need to store all data \n",
    "student_gpa_fr = 3.2 # Freshman Year\n",
    "\n",
    "student_gpa_so = 3.4 # Sophmore Year\n",
    "\n",
    "student_gpa_ju = 3.7 # Junior Year\n",
    "\n",
    "student_gpa_se = 3.9 # Senior Year\n",
    "\n",
    "overall_gpa = (student_gpa_fr + student_gpa_so + student_gpa_ju + student_gpa_se) / 4\n",
    "print(overall_gpa)\n",
    "\n",
    "# OUTPUT 3.55"
   ]
  },
  {
   "cell_type": "code",
   "execution_count": 3,
   "id": "c5292230",
   "metadata": {},
   "outputs": [
    {
     "name": "stdout",
     "output_type": "stream",
     "text": [
      "True\n"
     ]
    }
   ],
   "source": [
    "# Sports Team Statistics\n",
    "\n",
    "# Basketball team variables\n",
    "team_name = \"Riverside Ravens\"\n",
    "wins = 18\n",
    "losses = 7\n",
    "points_scored = 1456\n",
    "points_allowed = 1298\n",
    "leading_scorer = \"Jordan Thompson\"\n",
    "average_points_per_game = 58.2\n",
    "championship_contender = True\n",
    "\n",
    "print(championship_contender)"
   ]
  },
  {
   "cell_type": "code",
   "execution_count": 2,
   "id": "55c196f9",
   "metadata": {},
   "outputs": [
    {
     "name": "stdout",
     "output_type": "stream",
     "text": [
      "Elijah\n"
     ]
    }
   ],
   "source": [
    "# The input function\n",
    "\n",
    "first_name = input(\"Enter your first name: \")\n",
    "\n",
    "print(first_name)"
   ]
  },
  {
   "cell_type": "markdown",
   "id": "9b9eb146",
   "metadata": {},
   "source": [
    "## 4 Main Computational Process\n",
    "\n",
    "- Input\n",
    "- Processing\n",
    "- Output\n",
    "- Storage (Memory)"
   ]
  },
  {
   "cell_type": "markdown",
   "id": "ff83720c",
   "metadata": {},
   "source": [
    "### Strings, Assingments, and \n",
    "\n",
    "# Literals\n",
    "<table>\n",
    "    <tr> \n",
    "        <th>Type of Data</th>\n",
    "        <th>Python Type Name</th>\n",
    "        <th>Example Literals</th>\n",
    "    </tr>\n",
    "    <tr> \n",
    "        <td></td>\n",
    "        <td></td>\n",
    "        <td></td>\n",
    "    </tr>\n",
    "    <tr> \n",
    "        <td></td>\n",
    "        <td></td>\n",
    "        <td></td>\n",
    "    </tr>\n",
    "    <tr> \n",
    "        <td></td>\n",
    "        <td></td>\n",
    "        <td></td>\n",
    "    </tr>\n",
    "</table>"
   ]
  },
  {
   "cell_type": "code",
   "execution_count": 1,
   "id": "64538bdd",
   "metadata": {},
   "outputs": [
    {
     "name": "stdout",
     "output_type": "stream",
     "text": [
      "Hello there!\n",
      "675\n"
     ]
    }
   ],
   "source": [
    "hello = 'Hello there!'\n",
    "myInt = 675\n",
    "print(hello) # Literal is: Hello there!\n",
    "print(myInt) # Literal is: 675"
   ]
  },
  {
   "cell_type": "markdown",
   "id": "95159991",
   "metadata": {},
   "source": [
    "## Escape Sequences\n",
    "\n",
    "**Escape Sequence** - The way Python expresses special characters such as tav, the newline, and the backspace as Literals.\n",
    "\n",
    "<table>\n",
    "    <tr>\n",
    "        <th>Escape Sequence</th>\n",
    "        <th>Meaning</th>\n",
    "    </tr>\n",
    "    <tr>\n",
    "        <td>\\n</td>\n",
    "        <td>Newline</td>\n",
    "    </tr>\n",
    "    <tr>\n",
    "        <td>\\t</td>\n",
    "        <td>Horizontal Tab</td>\n",
    "    </tr>\n",
    "    <tr>\n",
    "        <td>\\\\</td>\n",
    "        <td>The \\ Character</td>\n",
    "    </tr>\n",
    "    <tr>\n",
    "        <td>\\'</td>\n",
    "        <td>Single quotation mark</td>\n",
    "    </tr>\n",
    "    <tr>\n",
    "        <td>\\\"</td>\n",
    "        <td>Double quotation mark</td>\n",
    "    </tr>\n",
    "</table>"
   ]
  },
  {
   "cell_type": "markdown",
   "id": "f643f735",
   "metadata": {},
   "source": [
    "## Initializing a Variable or Constant\n",
    "\n",
    "**Innitializing** - This is the process of creating a variable and setting it to a default value"
   ]
  },
  {
   "cell_type": "markdown",
   "id": "b08b864a",
   "metadata": {},
   "source": [
    "## Formatting Text for Output\n",
    "\n",
    "- This process is for presenting required output in tabular format.\n",
    "- **Field Width** - The total number of data characters and additional spaces for a given datum in a formatted string\n",
    "- **%** - format operator\n",
    "- **%6** - string with a field width of 6"
   ]
  },
  {
   "cell_type": "code",
   "execution_count": 1,
   "id": "b2bf9e50",
   "metadata": {},
   "outputs": [
    {
     "name": "stdout",
     "output_type": "stream",
     "text": [
      "7 10000000\n",
      "8 100000000\n",
      "9 1000000000\n",
      "10 10000000000\n"
     ]
    }
   ],
   "source": [
    "for exponent in range(7, 11):\n",
    "    print(exponent, 10 ** exponent)"
   ]
  },
  {
   "cell_type": "code",
   "execution_count": 6,
   "id": "e57b4b63",
   "metadata": {},
   "outputs": [
    {
     "name": "stdout",
     "output_type": "stream",
     "text": [
      "four\n",
      "  four\n",
      "four  \n"
     ]
    }
   ],
   "source": [
    "print(\"four\")\n",
    "print(\"%6s\" % \"four\") # % = fotmat operator Right Justify\n",
    "print(\"%-6s\" % \"four\") # Left Justify"
   ]
  },
  {
   "cell_type": "markdown",
   "id": "294a01b2",
   "metadata": {},
   "source": [
    "### Each of these Iterations uses a different type of loop"
   ]
  },
  {
   "cell_type": "markdown",
   "id": "7c7f8fd0",
   "metadata": {},
   "source": [
    "## Define Iteration\n",
    "Repeating an action or process a predefined number of times. Also know as a specific type of iteration.**Definite Iteration** --> for loop\n",
    "Perform an action or process until the program determines that it needs to stop. **Indefinite Iteration** --> while loop"
   ]
  },
  {
   "cell_type": "code",
   "execution_count": 2,
   "id": "1eaed7df",
   "metadata": {},
   "outputs": [
    {
     "name": "stdout",
     "output_type": "stream",
     "text": [
      "It's alive! It's alive! It's alive! It's alive! "
     ]
    }
   ],
   "source": [
    "for eachPass in range(4):\n",
    "    print(\"It's alive!\", end = \" \")\n"
   ]
  },
  {
   "cell_type": "markdown",
   "id": "444d3304",
   "metadata": {},
   "source": [
    "## The stu=ructure of a for Loop\n",
    "for (variable) in range(an inteer expression):\n",
    "    <br>&nbsp;&nbsp;&nbsp;&nbsp;&nbsp;repeat any number of statements\n",
    "\n",
    "**loop header** - the line that starts with 'for'\n",
    "**loop body** - comprises the statements in the remaining lines of code, below the header"
   ]
  },
  {
   "cell_type": "markdown",
   "id": "893d9920",
   "metadata": {},
   "source": [
    "# Python exponation operator"
   ]
  },
  {
   "cell_type": "code",
   "execution_count": 6,
   "id": "3f6efe3f",
   "metadata": {},
   "outputs": [
    {
     "name": "stdout",
     "output_type": "stream",
     "text": [
      "\n",
      " The variable product is currently:  1\n",
      "2 4 8 \n",
      " The variable product is now:  8\n"
     ]
    }
   ],
   "source": [
    "# Exponent Example\n",
    "\n",
    "number = 2\n",
    "exponent = 3\n",
    "product = 1\n",
    "\n",
    "print(\"\\n The variable product is currently: \", product)\n",
    "\n",
    "for eachPass in range(exponent):\n",
    "    product = product * number\n",
    "    print(product, end = \" \")\n",
    "\n",
    "print(\"\\n The variable product is now: \", product)"
   ]
  },
  {
   "cell_type": "markdown",
   "id": "0151b732",
   "metadata": {},
   "source": [
    "## Count-controllled Loops\n",
    "\n",
    "**Count-Controlled Loops** - loops that count through a range of numbers"
   ]
  },
  {
   "cell_type": "code",
   "execution_count": 7,
   "id": "c1d4fa1e",
   "metadata": {},
   "outputs": [
    {
     "name": "stdout",
     "output_type": "stream",
     "text": [
      "0 1 2 3 "
     ]
    }
   ],
   "source": [
    "for count in range(4):\n",
    "    print(count, end=\" \")"
   ]
  },
  {
   "cell_type": "code",
   "execution_count": 9,
   "id": "fdd24cb7",
   "metadata": {},
   "outputs": [
    {
     "name": "stdout",
     "output_type": "stream",
     "text": [
      "1 2 6 24 24\n"
     ]
    }
   ],
   "source": [
    "product = 1 # Initializing a counter\n",
    "\n",
    "for count in range(4):\n",
    "    product = product * (count + 1) # off by one error\n",
    "    print(product, end=\" \")\n",
    "\n",
    "print(product)"
   ]
  },
  {
   "cell_type": "markdown",
   "id": "e1c46f19",
   "metadata": {},
   "source": [
    "## Loop through a range of numbers: "
   ]
  },
  {
   "cell_type": "code",
   "execution_count": 10,
   "id": "2e6c8f56",
   "metadata": {},
   "outputs": [
    {
     "name": "stdout",
     "output_type": "stream",
     "text": [
      "1 2 6 24 \n",
      "\n",
      " 24\n"
     ]
    }
   ],
   "source": [
    "product = 1\n",
    "for count in range(1, 5):   # (1, 5) - start on 1, 1 is the first number in the sequence\n",
    "                                    # 5 is the first numebr NOT in the sequence\n",
    "    product = product * count\n",
    "    print(product, end=\" \")\n",
    "\n",
    "print(\"\\n\\n\", product)"
   ]
  },
  {
   "cell_type": "markdown",
   "id": "ab2bdddf",
   "metadata": {},
   "source": [
    "### Loop Head Structure with lower and upper bounds\n",
    "for (variable) in range (lower bound, upper bound + 1)"
   ]
  },
  {
   "cell_type": "code",
   "execution_count": null,
   "id": "6f513c68",
   "metadata": {},
   "outputs": [
    {
     "name": "stdout",
     "output_type": "stream",
     "text": [
      "117\n"
     ]
    }
   ],
   "source": [
    "lower = int(input(\"Enter the lower bound: \"))\n",
    "upper = int(input(\"Enter the upper bound: \"))\n",
    "\n",
    "theSum = 0 # Notice, we created theSum, because sum is a python keyword\n",
    "\n",
    "for number in range (lower, upper + 1):\n",
    "    theSum = theSum + number\n",
    "\n",
    "print(theSum)"
   ]
  },
  {
   "cell_type": "markdown",
   "id": "7bf97a9b",
   "metadata": {},
   "source": [
    "## Augmented Assignment"
   ]
  },
  {
   "cell_type": "markdown",
   "id": "5cc994e9",
   "metadata": {},
   "source": [
    "**Augmented Assingment** - when the assignment symbol can be combined with the arithmetic and concatination operators.\n",
    "\n",
    "Structure:\n",
    "(variable) (operator)= (expression)"
   ]
  },
  {
   "cell_type": "code",
   "execution_count": 17,
   "id": "39be11c9",
   "metadata": {},
   "outputs": [
    {
     "name": "stdout",
     "output_type": "stream",
     "text": [
      "20\n",
      "60\n",
      "0\n"
     ]
    }
   ],
   "source": [
    "a = 17\n",
    "s = \"hi\"\n",
    "\n",
    "a += 3      # equivelent to a = a + 3\n",
    "print(a)\n",
    "\n",
    "a *= 3      # equivelent to a = a * 3\n",
    "print(a)\n",
    "\n",
    "a %= 3      # equivelent to a = a % 3\n",
    "print(a)"
   ]
  },
  {
   "cell_type": "code",
   "execution_count": 18,
   "id": "735956ad",
   "metadata": {},
   "outputs": [
    {
     "name": "stdout",
     "output_type": "stream",
     "text": [
      "hi there!\n"
     ]
    }
   ],
   "source": [
    "s += \" there!\"  # equivelent to s = s + \" there!\"\n",
    "print(s)"
   ]
  },
  {
   "cell_type": "markdown",
   "id": "6ed30125",
   "metadata": {},
   "source": [
    "## Loop Errors: Off-by-One Error"
   ]
  },
  {
   "cell_type": "markdown",
   "id": "b38a676e",
   "metadata": {},
   "source": [
    "**Off-by-One Error** - these are errors that result when programmer incorrectly specifies the upper bound for a loop."
   ]
  },
  {
   "cell_type": "code",
   "execution_count": 21,
   "id": "6b2ab72c",
   "metadata": {},
   "outputs": [
    {
     "name": "stdout",
     "output_type": "stream",
     "text": [
      "1\n",
      "2\n",
      "3\n",
      "4\n"
     ]
    }
   ],
   "source": [
    "# Count from 1 through 4, we think\n",
    "for count in range (1, 5):\n",
    "    print(count)"
   ]
  },
  {
   "cell_type": "markdown",
   "id": "4af76bf8",
   "metadata": {},
   "source": [
    "## Traversing the Contents of a Data Sequence"
   ]
  },
  {
   "cell_type": "code",
   "execution_count": 24,
   "id": "01aec02d",
   "metadata": {},
   "outputs": [
    {
     "name": "stdout",
     "output_type": "stream",
     "text": [
      "[0, 1, 2, 3]\n",
      "[1, 2, 3, 4]\n"
     ]
    }
   ],
   "source": [
    "print(list(range(4)))\n",
    "print(list(range(1,5)))"
   ]
  },
  {
   "cell_type": "code",
   "execution_count": 25,
   "id": "bc5ae589",
   "metadata": {},
   "outputs": [
    {
     "name": "stdout",
     "output_type": "stream",
     "text": [
      "6 4 8 "
     ]
    }
   ],
   "source": [
    "# Use something other than the range function in the loop head\n",
    "for number in [6, 4, 8]:\n",
    "    print(number, end=\" \")"
   ]
  },
  {
   "cell_type": "code",
   "execution_count": 26,
   "id": "6c609068",
   "metadata": {},
   "outputs": [
    {
     "name": "stdout",
     "output_type": "stream",
     "text": [
      "H i ,   t h e r e ! "
     ]
    }
   ],
   "source": [
    "for character in \"Hi, there!\":\n",
    "    print(character, end=\" \")"
   ]
  },
  {
   "cell_type": "markdown",
   "id": "3cf6465f",
   "metadata": {},
   "source": [
    "## Specifying the Steps in the Range\n",
    "\n",
    "Another variant of the Python range() function, allows us to enter 3 values as arguments\n",
    "\n",
    "range(val1, val2, val3)\n",
    "val1 - Is the first value in the range, starting value.\n",
    "val2 - The first value not in the range, (val2 - 1)\n",
    "val3 - The Step Value - is the interval between the numbers used in the range"
   ]
  },
  {
   "cell_type": "code",
   "execution_count": 1,
   "id": "205fb351",
   "metadata": {},
   "outputs": [
    {
     "name": "stdout",
     "output_type": "stream",
     "text": [
      "[1, 2, 3, 4, 5]\n",
      "[1, 3, 5]\n",
      "[1, 4]\n"
     ]
    }
   ],
   "source": [
    "print(list(range(1, 6, 1))) # [1, 2, 3, 4, 5]\n",
    "print(list(range(1, 6, 2))) # [1, 3, 5]\n",
    "print(list(range(1, 6, 3))) # [1, 4]"
   ]
  },
  {
   "cell_type": "code",
   "execution_count": 2,
   "id": "4ead2e72",
   "metadata": {},
   "outputs": [
    {
     "name": "stdout",
     "output_type": "stream",
     "text": [
      "30\n"
     ]
    }
   ],
   "source": [
    "# Let's suppose we want to compute a sum of the even numbers between 1 and 10.\n",
    "theSum = 0\n",
    "for count in range(2, 11, 2):\n",
    "    theSum += count \n",
    "\n",
    "print(theSum)"
   ]
  },
  {
   "cell_type": "markdown",
   "id": "ba0b1518",
   "metadata": {},
   "source": [
    "## Loops That Count Down\n",
    "\n",
    "* Unitl now we have been counting up based on what power range is.\n",
    "\n"
   ]
  },
  {
   "cell_type": "code",
   "execution_count": 3,
   "id": "7abdb4cd",
   "metadata": {},
   "outputs": [
    {
     "name": "stdout",
     "output_type": "stream",
     "text": [
      "10 9 8 7 6 5 4 3 2 1 "
     ]
    }
   ],
   "source": [
    "for count in range(10, 0, -1):\n",
    "    print(count, end=\" \")"
   ]
  },
  {
   "cell_type": "code",
   "execution_count": 4,
   "id": "1b94a93d",
   "metadata": {},
   "outputs": [
    {
     "name": "stdout",
     "output_type": "stream",
     "text": [
      "[10, 9, 8, 7, 6, 5, 4, 3, 2, 1]\n"
     ]
    }
   ],
   "source": [
    "print(list(range(10, 0, -1)))"
   ]
  },
  {
   "cell_type": "markdown",
   "id": "16b76e8b",
   "metadata": {},
   "source": [
    "## Back to Formatting Text for Output"
   ]
  },
  {
   "cell_type": "code",
   "execution_count": 5,
   "id": "a95ff82b",
   "metadata": {},
   "outputs": [
    {
     "name": "stdout",
     "output_type": "stream",
     "text": [
      "7 10000000\n",
      "8 100000000\n",
      "9 1000000000\n",
      "10 10000000000\n"
     ]
    }
   ],
   "source": [
    "for exponent in range(7, 11):\n",
    "    print(exponent, 10 ** exponent)"
   ]
  },
  {
   "cell_type": "markdown",
   "id": "2bdc38c9",
   "metadata": {},
   "source": [
    "### Format String & Format Operator"
   ]
  },
  {
   "cell_type": "code",
   "execution_count": 6,
   "id": "7e2cdd18",
   "metadata": {},
   "outputs": [
    {
     "name": "stdout",
     "output_type": "stream",
     "text": [
      "7      10000000\n",
      "8     100000000\n",
      "9    1000000000\n",
      "10  10000000000\n"
     ]
    }
   ],
   "source": [
    "# <format string> % <datum>\n",
    "\n",
    "for exponent in range (7, 11):\n",
    "    print(\"%-3d%12d\" % (exponent, 10 ** exponent))\n",
    "    # %-3d = first column in the data output - go -3 spaces back from where the first and second column meet, the field will justify left\n",
    "    # %12d = second column in the data output will be 12 characters wide (theFieldWidth), everything in the field will justify right"
   ]
  },
  {
   "cell_type": "code",
   "execution_count": 8,
   "id": "80fd1c63",
   "metadata": {},
   "outputs": [
    {
     "name": "stdout",
     "output_type": "stream",
     "text": [
      "Your salary is $100.0\n",
      "Your salary is $ 100.00\n"
     ]
    }
   ],
   "source": [
    "salary = 100.00\n",
    "print(\"Your salary is $\" + str(salary))\n",
    "print(\"Your salary is $ %0.2f\" % salary)"
   ]
  },
  {
   "cell_type": "code",
   "execution_count": null,
   "id": "6ff3a9f8",
   "metadata": {},
   "outputs": [
    {
     "name": "stdout",
     "output_type": "stream",
     "text": [
      " 3.140\n"
     ]
    }
   ],
   "source": [
    "print(\"%6.3f\" % 3.14)\n",
    "# 6 total digits, with 3 digits after the decimal"
   ]
  },
  {
   "cell_type": "code",
   "execution_count": null,
   "id": "f9b30d17",
   "metadata": {},
   "outputs": [],
   "source": []
  }
 ],
 "metadata": {
  "kernelspec": {
   "display_name": "Python 3",
   "language": "python",
   "name": "python3"
  },
  "language_info": {
   "codemirror_mode": {
    "name": "ipython",
    "version": 3
   },
   "file_extension": ".py",
   "mimetype": "text/x-python",
   "name": "python",
   "nbconvert_exporter": "python",
   "pygments_lexer": "ipython3",
   "version": "3.12.1"
  }
 },
 "nbformat": 4,
 "nbformat_minor": 5
}
