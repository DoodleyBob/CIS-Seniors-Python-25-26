{
 "cells": [
  {
   "cell_type": "markdown",
   "id": "ae464f18",
   "metadata": {},
   "source": [
    "## Working with Python Variables"
   ]
  },
  {
   "cell_type": "markdown",
   "id": "38e8a977",
   "metadata": {},
   "source": [
    "Structure of creating a variable\n",
    "[variable_name] [assignment operator] [value]\n",
    "myVar = \"blah\"\n",
    "\n",
    "### What are the data types in Python\n",
    "1. Strings - anything inside of \" \" or ' '\n",
    "2. Booleans - True/False\n",
    "3. Integers - whole numbers, even or odd\n",
    "4. Floats - any numbver with a decimal"
   ]
  },
  {
   "cell_type": "code",
   "execution_count": null,
   "id": "d6bb8d89",
   "metadata": {},
   "outputs": [
    {
     "name": "stdout",
     "output_type": "stream",
     "text": [
      "3.9\n",
      "3.5500000000000003\n"
     ]
    }
   ],
   "source": [
    "# Variable Reassignment\n",
    "\n",
    "# A student's GPA throughout high school\n",
    "student_gpa = 3.2 # Freshman Year\n",
    "\n",
    "student_gpa = 3.4 # Sophmore Year\n",
    "\n",
    "student_gpa = 3.7 # Junior Year\n",
    "\n",
    "student_gpa = 3.9 # Senior Year\n",
    "print(student_gpa)\n",
    "\n",
    "# OUTPUT: 3.9\n",
    "\n",
    "# If you need to store all data \n",
    "student_gpa_fr = 3.2 # Freshman Year\n",
    "\n",
    "student_gpa_so = 3.4 # Sophmore Year\n",
    "\n",
    "student_gpa_ju = 3.7 # Junior Year\n",
    "\n",
    "student_gpa_se = 3.9 # Senior Year\n",
    "\n",
    "overall_gpa = (student_gpa_fr + student_gpa_so + student_gpa_ju + student_gpa_se) / 4\n",
    "print(overall_gpa)\n",
    "\n",
    "# OUTPUT 3.55"
   ]
  },
  {
   "cell_type": "code",
   "execution_count": 3,
   "id": "c5292230",
   "metadata": {},
   "outputs": [
    {
     "name": "stdout",
     "output_type": "stream",
     "text": [
      "True\n"
     ]
    }
   ],
   "source": [
    "# Sports Team Statistics\n",
    "\n",
    "# Basketball team variables\n",
    "team_name = \"Riverside Ravens\"\n",
    "wins = 18\n",
    "losses = 7\n",
    "points_scored = 1456\n",
    "points_allowed = 1298\n",
    "leading_scorer = \"Jordan Thompson\"\n",
    "average_points_per_game = 58.2\n",
    "championship_contender = True\n",
    "\n",
    "print(championship_contender)"
   ]
  },
  {
   "cell_type": "code",
   "execution_count": null,
   "id": "55c196f9",
   "metadata": {},
   "outputs": [],
   "source": []
  }
 ],
 "metadata": {
  "kernelspec": {
   "display_name": "Python 3",
   "language": "python",
   "name": "python3"
  },
  "language_info": {
   "codemirror_mode": {
    "name": "ipython",
    "version": 3
   },
   "file_extension": ".py",
   "mimetype": "text/x-python",
   "name": "python",
   "nbconvert_exporter": "python",
   "pygments_lexer": "ipython3",
   "version": "3.12.1"
  }
 },
 "nbformat": 4,
 "nbformat_minor": 5
}
